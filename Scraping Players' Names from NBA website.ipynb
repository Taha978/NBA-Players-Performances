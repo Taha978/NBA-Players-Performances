{
 "cells": [
  {
   "cell_type": "markdown",
   "metadata": {},
   "source": [
    "#### Importing Libraries"
   ]
  },
  {
   "cell_type": "code",
   "execution_count": 23,
   "metadata": {},
   "outputs": [],
   "source": [
    "#Importing libraries\n",
    "from selenium import webdriver\n",
    "from selenium.webdriver.chrome.options import Options\n",
    "from selenium.webdriver.common.keys import Keys\n",
    "from selenium.webdriver.common.by import By\n",
    "from selenium.webdriver import ActionChains\n",
    "import json\n",
    "import time\n",
    "from time import sleep\n",
    "import random\n",
    "import warnings\n",
    "warnings.filterwarnings('ignore')"
   ]
  },
  {
   "cell_type": "markdown",
   "metadata": {},
   "source": [
    "#### Initializing a Chrome Session"
   ]
  },
  {
   "cell_type": "code",
   "execution_count": 6,
   "metadata": {},
   "outputs": [],
   "source": [
    "option=Options()\n",
    "option.add_argument(\"--disable-infobars\")\n",
    "option.add_argument(\"start-maximized\")\n",
    "option.add_argument(\"--disable-extensions\")\n",
    "driver=webdriver.Chrome(executable_path='C:\\\\Users\\\\TAHA\\\\Webdriver_taha\\\\chromedriver.exe')\n",
    "time.sleep(random.randint(3,5))\n",
    "driver.get('https://www.nba.com/players')\n",
    "time.sleep(random.randint(3,5))\n",
    "# Once the NBA website appears, we manually accept cookies and set the page button to \"all\" to show all current NBA players."
   ]
  },
  {
   "cell_type": "markdown",
   "metadata": {},
   "source": [
    "#### Scraping Current NBA Players' Names"
   ]
  },
  {
   "cell_type": "code",
   "execution_count": 16,
   "metadata": {},
   "outputs": [],
   "source": [
    "# Scraping players' names from the NBA website\n",
    "body=driver.find_element(By.TAG_NAME,'body')\n",
    "players_table=body.find_element(By.CLASS_NAME,'PlayerList_playerTable__Jno0k').find_element(By.CLASS_NAME,\"players-list\").find_element(By.TAG_NAME,'tbody').find_elements(By.TAG_NAME,'tr')\n",
    "players_names=[elem.find_element(By.CLASS_NAME,'RosterRow_playerName__G28lg').text for elem in players_table]"
   ]
  },
  {
   "cell_type": "code",
   "execution_count": 25,
   "metadata": {},
   "outputs": [],
   "source": [
    "# Cleaning the players' names\n",
    "for i in range(len(players_names)):\n",
    "    try:\n",
    "        players_names[i]=players_names[i].replace('\\n',' ')\n",
    "    except:\n",
    "        pass\n",
    "# Saving the scraped data in a json file\n",
    "players={\"NBA Player\":players_names}\n",
    "file_name=\"NBA Players.json\"\n",
    "with open(file_name,'w') as json_file:\n",
    "    json.dump(players,json_file)"
   ]
  }
 ],
 "metadata": {
  "kernelspec": {
   "display_name": "Python 3",
   "language": "python",
   "name": "python3"
  },
  "language_info": {
   "codemirror_mode": {
    "name": "ipython",
    "version": 3
   },
   "file_extension": ".py",
   "mimetype": "text/x-python",
   "name": "python",
   "nbconvert_exporter": "python",
   "pygments_lexer": "ipython3",
   "version": "3.9.13"
  }
 },
 "nbformat": 4,
 "nbformat_minor": 2
}
